{
 "cells": [
  {
   "cell_type": "code",
   "execution_count": 1,
   "metadata": {},
   "outputs": [],
   "source": [
    "#Import Qiskit and Qiskit.Visualization\n",
    "import qiskit\n",
    "from qiskit import QuantumCircuit, assemble, Aer,execute\n",
    "from qiskit.visualization import plot_bloch_multivector\n",
    "from math import sqrt, pi\n",
    "#Create List for Superposition Pixel Generator\n",
    "from itertools import islice\n",
    "#Graph Superposition Pixel\n",
    "import turtle"
   ]
  },
  {
   "cell_type": "code",
   "execution_count": 2,
   "metadata": {},
   "outputs": [],
   "source": [
    "#Set Current Qiskit Backend to QASM Simulator \n",
    "#Switch if using IBM Quantum Computers\n",
    "sim=Aer.get_backend('qasm_simulator')"
   ]
  },
  {
   "cell_type": "code",
   "execution_count": 3,
   "metadata": {},
   "outputs": [],
   "source": [
    "#Intializes Quantum Circuit with 1 Qubit and 1 Classical Bit\n",
    "qc=QuantumCircuit(1,1)\n",
    "\n",
    "#Amount of times simulation is run\n",
    "sim_run=1024"
   ]
  },
  {
   "cell_type": "code",
   "execution_count": 4,
   "metadata": {},
   "outputs": [],
   "source": [
    "#Specifies P(|1>) (Probability of |1>)\n",
    "#P(|0>)=(1-P(|1>))\n",
    "Prob_Value=int(input(\"Specify Required Distribution Percentage of |1>(Enter from 0 to 100)\"))"
   ]
  },
  {
   "cell_type": "code",
   "execution_count": 5,
   "metadata": {},
   "outputs": [
    {
     "data": {
      "text/plain": [
       "<qiskit.circuit.instructionset.InstructionSet at 0x229c356b680>"
      ]
     },
     "execution_count": 5,
     "metadata": {},
     "output_type": "execute_result"
    }
   ],
   "source": [
    "#Calculates rotation required by Y axis(utilizing a Quintic Polynomial equation) in order to generate required distribution of |0> and |1>\n",
    "qc.ry(((Prob_Value/(((-5*(10**-8))*(Prob_Value**5)) + ((9*(10**-6))*(Prob_Value**4)) - (0.0004*(Prob_Value**3)) - (0.017*(Prob_Value**2)) + (2.5868*(Prob_Value)) + (25.009)))*pi),0)"
   ]
  },
  {
   "cell_type": "code",
   "execution_count": 6,
   "metadata": {},
   "outputs": [
    {
     "data": {
      "text/plain": [
       "<qiskit.circuit.instructionset.InstructionSet at 0x229c356b0c0>"
      ]
     },
     "execution_count": 6,
     "metadata": {},
     "output_type": "execute_result"
    }
   ],
   "source": [
    "#Creates barrier between gates and measurements for qc.draw() and optimization level\n",
    "qc.barrier()"
   ]
  },
  {
   "cell_type": "code",
   "execution_count": 7,
   "metadata": {},
   "outputs": [],
   "source": [
    "#Run code to check Bloch spheres of Qubits in superposition(|+> basis)\n",
    "#qc.save_statevector()\n",
    "#qobj=assemble(qc)\n",
    "#result=sim.run(qobj).result().get_statevector()\n",
    "#plot_bloch_multivector(result)"
   ]
  },
  {
   "cell_type": "code",
   "execution_count": 8,
   "metadata": {},
   "outputs": [
    {
     "data": {
      "text/plain": [
       "<qiskit.circuit.instructionset.InstructionSet at 0x2296a043980>"
      ]
     },
     "execution_count": 8,
     "metadata": {},
     "output_type": "execute_result"
    }
   ],
   "source": [
    "#Collapses superposition of every Qubit and assigns value to corrosponding Classical bit\n",
    "qc.measure(0,0)"
   ]
  },
  {
   "cell_type": "code",
   "execution_count": 9,
   "metadata": {},
   "outputs": [],
   "source": [
    "#Run code to check Bloch spheres of Qubits in superposition(|+>  or |-> basis)\n",
    "#qc.save_statevector()\n",
    "#qobj=assemble(qc)\n",
    "#result=sim.run(qobj).result().get_statevector()\n",
    "#plot_bloch_multivector(result)"
   ]
  },
  {
   "cell_type": "code",
   "execution_count": 10,
   "metadata": {},
   "outputs": [
    {
     "data": {
      "image/png": "[encoded data removed]",
      "text/plain": [
       "<PIL.Image.Image image mode=RGB size=281x75>"
      ]
     },
     "execution_count": 10,
     "metadata": {},
     "output_type": "execute_result"
    }
   ],
   "source": [
    "#Draws Quantum Circuit\n",
    "qc.draw(output=\"latex\")"
   ]
  },
  {
   "cell_type": "code",
   "execution_count": 11,
   "metadata": {},
   "outputs": [],
   "source": [
    "#memory=True to access indivual simulation qubit measurement values\n",
    "job=execute(qc,sim,shots=sim_run,memory=True)\n",
    "result=job.result()\n",
    "counts=result.get_counts()\n",
    "memory=result.get_memory()\n",
    "\n",
    "#print(memory)\n",
    "#print(len(memory))"
   ]
  },
  {
   "cell_type": "code",
   "execution_count": 12,
   "metadata": {},
   "outputs": [],
   "source": [
    "#creates lists for iterations\n",
    "list_length=[]\n",
    "for i in range (0,32):\n",
    "    list_length.append(32)\n",
    "\n",
    "#print(list_length)\n",
    "#print(len(list_length))"
   ]
  },
  {
   "cell_type": "code",
   "execution_count": 13,
   "metadata": {},
   "outputs": [],
   "source": [
    "#Create List for Superposition Pixel Generator\n",
    "Input = iter(memory)\n",
    "Quantum_Pixels = [list(islice(Input, x))\n",
    "          for x in list_length]\n",
    "\n",
    "#print(Quantum_Pixels)"
   ]
  },
  {
   "cell_type": "code",
   "execution_count": 14,
   "metadata": {},
   "outputs": [],
   "source": [
    "Zero=str(input(\"Enter Hexadecimal code or Specified Value of 0:\"))\n",
    "One=str(input(\"Enter Hexadecimal code or Specified Value of 1:\"))"
   ]
  },
  {
   "cell_type": "code",
   "execution_count": null,
   "metadata": {},
   "outputs": [],
   "source": [
    "#Start Draw and set Draw to immediate print\n",
    "Draw = turtle.Turtle()\n",
    "wn=turtle.Screen()\n",
    "wn.tracer(0)\n",
    "square_int = 30\t"
   ]
  },
  {
   "cell_type": "code",
   "execution_count": null,
   "metadata": {},
   "outputs": [],
   "source": [
    "#Set Draw to top left corner of specified Print_Vertical and Print_Horizontal\n",
    "Draw.penup()\n",
    "Draw.forward(-480)\n",
    "Draw.setheading(90)\n",
    "Draw.forward(380)\n",
    "Draw.setheading(0)"
   ]
  },
  {
   "cell_type": "code",
   "execution_count": null,
   "metadata": {},
   "outputs": [],
   "source": [
    "for x in range (0,len(Quantum_Pixels)):\n",
    "    for i in range (0,len(Quantum_Pixels[x])):\n",
    "        if Quantum_Pixels[x][i]==\"1\":\n",
    "\n",
    "            Draw.color(One)\n",
    "            Draw.begin_fill()\n",
    "            Draw.forward(square_int)\n",
    "\n",
    "            Draw.left(90)\n",
    "            Draw.forward(square_int)\n",
    "\n",
    "            Draw.left(90)\n",
    "            Draw.forward(square_int)\n",
    "\n",
    "            Draw.left(90)\n",
    "            Draw.forward(square_int)\n",
    "\n",
    "            Draw.end_fill()\n",
    "            Draw.setheading(0)\n",
    "        else:\n",
    "            Draw.color(Zero)\n",
    "            Draw.begin_fill()\n",
    "\n",
    "            Draw.forward(square_int)\n",
    "            \n",
    "            Draw.left(90)\n",
    "            Draw.forward(square_int)\n",
    "\n",
    "            Draw.left(90)\n",
    "            Draw.forward(square_int)\n",
    "\n",
    "            Draw.left(90)\n",
    "            Draw.forward(square_int)\n",
    "\n",
    "            Draw.end_fill()\n",
    "            Draw.setheading(0)\n",
    "\n",
    "        Draw.penup()\n",
    "        Draw.forward(square_int)\n",
    "        Draw.pendown()\n",
    "        \t\n",
    "    Draw.setheading(270) \n",
    "    Draw.penup()\n",
    "    Draw.forward(square_int)\n",
    "    Draw.setheading(180) \n",
    "    Draw.forward(square_int*len(Quantum_Pixels[x]))\n",
    "    Draw.setheading(0)\n",
    "    Draw.pendown()\n",
    "\t\n",
    "Draw.getscreen().update()\t\n",
    "turtle.done()"
   ]
  }
 ],
 "metadata": {
  "kernelspec": {
   "display_name": "Python 3.10.4 ('Qiskit')",
   "language": "python",
   "name": "python3"
  },
  "language_info": {
   "codemirror_mode": {
    "name": "ipython",
    "version": 3
   },
   "file_extension": ".py",
   "mimetype": "text/x-python",
   "name": "python",
   "nbconvert_exporter": "python",
   "pygments_lexer": "ipython3",
   "version": "3.10.4"
  },
  "orig_nbformat": 4,
  "vscode": {
   "interpreter": {
    "hash": "09240a276b16b6fde8f96eabb23ee62f2404dee27ecaaf4330ce2e4b5e24310a"
   }
  }
 },
 "nbformat": 4,
 "nbformat_minor": 2
}
